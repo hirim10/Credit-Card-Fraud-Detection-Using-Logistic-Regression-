{
  "nbformat": 4,
  "nbformat_minor": 0,
  "metadata": {
    "colab": {
      "name": "Untitled0.ipynb",
      "provenance": []
    },
    "kernelspec": {
      "name": "python3",
      "display_name": "Python 3"
    },
    "language_info": {
      "name": "python"
    }
  },
  "cells": [
    {
      "cell_type": "markdown",
      "metadata": {
        "id": "PnELTCyU5Qu7"
      },
      "source": [
        "Importing the Dependencies"
      ]
    },
    {
      "cell_type": "code",
      "metadata": {
        "id": "qYyxtunk5OFa"
      },
      "source": [
        "import numpy as np\n",
        "import pandas as pd\n",
        "from sklearn.model_selection import train_test_split\n",
        "from sklearn.linear_model import LogisticRegression\n",
        "from sklearn.metrics import accuracy_score"
      ],
      "execution_count": 18,
      "outputs": []
    },
    {
      "cell_type": "markdown",
      "metadata": {
        "id": "BJSzqxE46oMk"
      },
      "source": [
        "Loading the Dataset\n"
      ]
    },
    {
      "cell_type": "code",
      "metadata": {
        "id": "zz6JARDh6zIX"
      },
      "source": [
        "card_data=pd.read_csv(\"/content/creditcard.csv\")"
      ],
      "execution_count": 19,
      "outputs": []
    },
    {
      "cell_type": "code",
      "metadata": {
        "id": "Uh9rSmgd7eGB",
        "colab": {
          "base_uri": "https://localhost:8080/"
        },
        "outputId": "e3d40378-2ecc-4d8d-d3c3-06e157ba854c"
      },
      "source": [
        "#checking for missing values\n",
        "card_data.isnull().sum()"
      ],
      "execution_count": 20,
      "outputs": [
        {
          "output_type": "execute_result",
          "data": {
            "text/plain": [
              "Time      0\n",
              "V1        0\n",
              "V2        0\n",
              "V3        0\n",
              "V4        0\n",
              "V5        0\n",
              "V6        0\n",
              "V7        0\n",
              "V8        0\n",
              "V9        0\n",
              "V10       0\n",
              "V11       0\n",
              "V12       0\n",
              "V13       0\n",
              "V14       0\n",
              "V15       0\n",
              "V16       0\n",
              "V17       0\n",
              "V18       0\n",
              "V19       0\n",
              "V20       0\n",
              "V21       0\n",
              "V22       0\n",
              "V23       0\n",
              "V24       0\n",
              "V25       0\n",
              "V26       0\n",
              "V27       0\n",
              "V28       0\n",
              "Amount    0\n",
              "Class     0\n",
              "dtype: int64"
            ]
          },
          "metadata": {},
          "execution_count": 20
        }
      ]
    },
    {
      "cell_type": "code",
      "metadata": {
        "colab": {
          "base_uri": "https://localhost:8080/"
        },
        "id": "F4xFzsFDAVjH",
        "outputId": "0bac8247-9e28-4b72-ff58-e305e68cb264"
      },
      "source": [
        "#distribution of legit and fraud transactions\n",
        "card_data[\"Class\"].value_counts()"
      ],
      "execution_count": 21,
      "outputs": [
        {
          "output_type": "execute_result",
          "data": {
            "text/plain": [
              "0    284315\n",
              "1       492\n",
              "Name: Class, dtype: int64"
            ]
          },
          "metadata": {},
          "execution_count": 21
        }
      ]
    },
    {
      "cell_type": "markdown",
      "metadata": {
        "id": "5ilxlCzgDOe5"
      },
      "source": [
        "Data is highly unbalanced"
      ]
    },
    {
      "cell_type": "code",
      "metadata": {
        "id": "Nw9RFn-SB98O"
      },
      "source": [
        "#Splitting data\n",
        "legit=card_data[card_data.Class==0]\n",
        "fraud=card_data[card_data.Class==1]"
      ],
      "execution_count": 22,
      "outputs": []
    },
    {
      "cell_type": "code",
      "metadata": {
        "colab": {
          "base_uri": "https://localhost:8080/"
        },
        "id": "XLWsebkXElk2",
        "outputId": "1a944459-416a-4103-f543-516eadc21a30"
      },
      "source": [
        "print(legit.shape)\n",
        "print(fraud.shape)"
      ],
      "execution_count": 23,
      "outputs": [
        {
          "output_type": "stream",
          "name": "stdout",
          "text": [
            "(284315, 31)\n",
            "(492, 31)\n"
          ]
        }
      ]
    },
    {
      "cell_type": "code",
      "metadata": {
        "colab": {
          "base_uri": "https://localhost:8080/"
        },
        "id": "Mf8QtyPRGkB-",
        "outputId": "23c6a17c-4343-42a7-d96c-0ed7ec2e6316"
      },
      "source": [
        "legit.Amount.describe()"
      ],
      "execution_count": 24,
      "outputs": [
        {
          "output_type": "execute_result",
          "data": {
            "text/plain": [
              "count    284315.000000\n",
              "mean         88.291022\n",
              "std         250.105092\n",
              "min           0.000000\n",
              "25%           5.650000\n",
              "50%          22.000000\n",
              "75%          77.050000\n",
              "max       25691.160000\n",
              "Name: Amount, dtype: float64"
            ]
          },
          "metadata": {},
          "execution_count": 24
        }
      ]
    },
    {
      "cell_type": "code",
      "metadata": {
        "id": "wTCJESPqG0X3",
        "colab": {
          "base_uri": "https://localhost:8080/"
        },
        "outputId": "8d15f0e0-b8d7-4b92-c512-f3e6a752d0dc"
      },
      "source": [
        "fraud.Amount.describe()"
      ],
      "execution_count": 25,
      "outputs": [
        {
          "output_type": "execute_result",
          "data": {
            "text/plain": [
              "count     492.000000\n",
              "mean      122.211321\n",
              "std       256.683288\n",
              "min         0.000000\n",
              "25%         1.000000\n",
              "50%         9.250000\n",
              "75%       105.890000\n",
              "max      2125.870000\n",
              "Name: Amount, dtype: float64"
            ]
          },
          "metadata": {},
          "execution_count": 25
        }
      ]
    },
    {
      "cell_type": "markdown",
      "metadata": {
        "id": "65kS2j2YWVLQ"
      },
      "source": [
        "Undersampling(to have similar distribution of legit and fraud transaction)"
      ]
    },
    {
      "cell_type": "code",
      "metadata": {
        "id": "ztVm4NYWWjdD"
      },
      "source": [
        "legit_sample=legit.sample(n=492)"
      ],
      "execution_count": 26,
      "outputs": []
    },
    {
      "cell_type": "markdown",
      "metadata": {
        "id": "2bI3rKCQW6sa"
      },
      "source": [
        "Joining the dataset"
      ]
    },
    {
      "cell_type": "code",
      "metadata": {
        "id": "m7UDWNrFXDET"
      },
      "source": [
        "new_dataset=pd.concat([legit_sample,fraud],axis=0)\n",
        "#axis=0 means rows and axis =1 means column"
      ],
      "execution_count": 27,
      "outputs": []
    },
    {
      "cell_type": "code",
      "metadata": {
        "colab": {
          "base_uri": "https://localhost:8080/"
        },
        "id": "r3ndx876X4jw",
        "outputId": "e7827543-c098-479d-faf2-6fe5a9a8e2a8"
      },
      "source": [
        "new_dataset['Class'].value_counts()"
      ],
      "execution_count": 28,
      "outputs": [
        {
          "output_type": "execute_result",
          "data": {
            "text/plain": [
              "1    492\n",
              "0    492\n",
              "Name: Class, dtype: int64"
            ]
          },
          "metadata": {},
          "execution_count": 28
        }
      ]
    },
    {
      "cell_type": "code",
      "metadata": {
        "colab": {
          "base_uri": "https://localhost:8080/",
          "height": 162
        },
        "id": "D1ozIVpXYac1",
        "outputId": "2517ce75-406a-4445-895f-ae75c9aca79b"
      },
      "source": [
        "new_dataset.groupby(\"Class\").mean()"
      ],
      "execution_count": 29,
      "outputs": [
        {
          "output_type": "execute_result",
          "data": {
            "text/html": [
              "<div>\n",
              "<style scoped>\n",
              "    .dataframe tbody tr th:only-of-type {\n",
              "        vertical-align: middle;\n",
              "    }\n",
              "\n",
              "    .dataframe tbody tr th {\n",
              "        vertical-align: top;\n",
              "    }\n",
              "\n",
              "    .dataframe thead th {\n",
              "        text-align: right;\n",
              "    }\n",
              "</style>\n",
              "<table border=\"1\" class=\"dataframe\">\n",
              "  <thead>\n",
              "    <tr style=\"text-align: right;\">\n",
              "      <th></th>\n",
              "      <th>Time</th>\n",
              "      <th>V1</th>\n",
              "      <th>V2</th>\n",
              "      <th>V3</th>\n",
              "      <th>V4</th>\n",
              "      <th>V5</th>\n",
              "      <th>V6</th>\n",
              "      <th>V7</th>\n",
              "      <th>V8</th>\n",
              "      <th>V9</th>\n",
              "      <th>V10</th>\n",
              "      <th>V11</th>\n",
              "      <th>V12</th>\n",
              "      <th>V13</th>\n",
              "      <th>V14</th>\n",
              "      <th>V15</th>\n",
              "      <th>V16</th>\n",
              "      <th>V17</th>\n",
              "      <th>V18</th>\n",
              "      <th>V19</th>\n",
              "      <th>V20</th>\n",
              "      <th>V21</th>\n",
              "      <th>V22</th>\n",
              "      <th>V23</th>\n",
              "      <th>V24</th>\n",
              "      <th>V25</th>\n",
              "      <th>V26</th>\n",
              "      <th>V27</th>\n",
              "      <th>V28</th>\n",
              "      <th>Amount</th>\n",
              "    </tr>\n",
              "    <tr>\n",
              "      <th>Class</th>\n",
              "      <th></th>\n",
              "      <th></th>\n",
              "      <th></th>\n",
              "      <th></th>\n",
              "      <th></th>\n",
              "      <th></th>\n",
              "      <th></th>\n",
              "      <th></th>\n",
              "      <th></th>\n",
              "      <th></th>\n",
              "      <th></th>\n",
              "      <th></th>\n",
              "      <th></th>\n",
              "      <th></th>\n",
              "      <th></th>\n",
              "      <th></th>\n",
              "      <th></th>\n",
              "      <th></th>\n",
              "      <th></th>\n",
              "      <th></th>\n",
              "      <th></th>\n",
              "      <th></th>\n",
              "      <th></th>\n",
              "      <th></th>\n",
              "      <th></th>\n",
              "      <th></th>\n",
              "      <th></th>\n",
              "      <th></th>\n",
              "      <th></th>\n",
              "      <th></th>\n",
              "    </tr>\n",
              "  </thead>\n",
              "  <tbody>\n",
              "    <tr>\n",
              "      <th>0</th>\n",
              "      <td>95576.091463</td>\n",
              "      <td>0.109957</td>\n",
              "      <td>0.040309</td>\n",
              "      <td>0.013205</td>\n",
              "      <td>-0.029230</td>\n",
              "      <td>0.039077</td>\n",
              "      <td>0.006210</td>\n",
              "      <td>0.020036</td>\n",
              "      <td>-0.062988</td>\n",
              "      <td>-0.044884</td>\n",
              "      <td>0.018633</td>\n",
              "      <td>-0.030003</td>\n",
              "      <td>-0.000315</td>\n",
              "      <td>-0.100200</td>\n",
              "      <td>0.049891</td>\n",
              "      <td>0.024056</td>\n",
              "      <td>-0.005991</td>\n",
              "      <td>-0.008026</td>\n",
              "      <td>-0.014085</td>\n",
              "      <td>0.019557</td>\n",
              "      <td>0.017063</td>\n",
              "      <td>0.004663</td>\n",
              "      <td>0.050577</td>\n",
              "      <td>0.013232</td>\n",
              "      <td>-0.024108</td>\n",
              "      <td>0.003203</td>\n",
              "      <td>0.019771</td>\n",
              "      <td>-0.003013</td>\n",
              "      <td>0.017233</td>\n",
              "      <td>78.908272</td>\n",
              "    </tr>\n",
              "    <tr>\n",
              "      <th>1</th>\n",
              "      <td>80746.806911</td>\n",
              "      <td>-4.771948</td>\n",
              "      <td>3.623778</td>\n",
              "      <td>-7.033281</td>\n",
              "      <td>4.542029</td>\n",
              "      <td>-3.151225</td>\n",
              "      <td>-1.397737</td>\n",
              "      <td>-5.568731</td>\n",
              "      <td>0.570636</td>\n",
              "      <td>-2.581123</td>\n",
              "      <td>-5.676883</td>\n",
              "      <td>3.800173</td>\n",
              "      <td>-6.259393</td>\n",
              "      <td>-0.109334</td>\n",
              "      <td>-6.971723</td>\n",
              "      <td>-0.092929</td>\n",
              "      <td>-4.139946</td>\n",
              "      <td>-6.665836</td>\n",
              "      <td>-2.246308</td>\n",
              "      <td>0.680659</td>\n",
              "      <td>0.372319</td>\n",
              "      <td>0.713588</td>\n",
              "      <td>0.014049</td>\n",
              "      <td>-0.040308</td>\n",
              "      <td>-0.105130</td>\n",
              "      <td>0.041449</td>\n",
              "      <td>0.051648</td>\n",
              "      <td>0.170575</td>\n",
              "      <td>0.075667</td>\n",
              "      <td>122.211321</td>\n",
              "    </tr>\n",
              "  </tbody>\n",
              "</table>\n",
              "</div>"
            ],
            "text/plain": [
              "               Time        V1        V2  ...       V27       V28      Amount\n",
              "Class                                    ...                                \n",
              "0      95576.091463  0.109957  0.040309  ... -0.003013  0.017233   78.908272\n",
              "1      80746.806911 -4.771948  3.623778  ...  0.170575  0.075667  122.211321\n",
              "\n",
              "[2 rows x 30 columns]"
            ]
          },
          "metadata": {},
          "execution_count": 29
        }
      ]
    },
    {
      "cell_type": "markdown",
      "metadata": {
        "id": "7rFMXD04Y6Yv"
      },
      "source": [
        "Splitting data into features and targets"
      ]
    },
    {
      "cell_type": "code",
      "metadata": {
        "colab": {
          "base_uri": "https://localhost:8080/"
        },
        "id": "sfg6eFxVZEY9",
        "outputId": "ba1c678a-765e-4c24-d891-04b1111aa096"
      },
      "source": [
        "x=new_dataset.drop(columns=\"Class\",axis=1)\n",
        "y=new_dataset['Class']\n",
        "print(x)\n",
        "print(y)"
      ],
      "execution_count": 30,
      "outputs": [
        {
          "output_type": "stream",
          "name": "stdout",
          "text": [
            "            Time        V1        V2  ...       V27       V28  Amount\n",
            "194252  130499.0  1.743950 -0.142570  ... -0.047837 -0.030401  165.60\n",
            "219069  141584.0  1.699057 -0.785578  ... -0.069265 -0.017998  165.05\n",
            "55101    46780.0 -0.580824 -0.531604  ...  0.082039 -0.080295   27.21\n",
            "57418    47902.0  0.450160 -1.113891  ...  0.002891  0.057448  299.86\n",
            "208113  136977.0 -7.339861 -8.904299  ... -0.670326  1.363532  309.06\n",
            "...          ...       ...       ...  ...       ...       ...     ...\n",
            "279863  169142.0 -1.927883  1.125653  ...  0.292680  0.147968  390.00\n",
            "280143  169347.0  1.378559  1.289381  ...  0.389152  0.186637    0.76\n",
            "280149  169351.0 -0.676143  1.126366  ...  0.385107  0.194361   77.89\n",
            "281144  169966.0 -3.113832  0.585864  ...  0.884876 -0.253700  245.00\n",
            "281674  170348.0  1.991976  0.158476  ...  0.002988 -0.015309   42.53\n",
            "\n",
            "[984 rows x 30 columns]\n",
            "194252    0\n",
            "219069    0\n",
            "55101     0\n",
            "57418     0\n",
            "208113    0\n",
            "         ..\n",
            "279863    1\n",
            "280143    1\n",
            "280149    1\n",
            "281144    1\n",
            "281674    1\n",
            "Name: Class, Length: 984, dtype: int64\n"
          ]
        }
      ]
    },
    {
      "cell_type": "markdown",
      "metadata": {
        "id": "MgV_eFxhZ4vt"
      },
      "source": [
        "Splitting into trainig and test data"
      ]
    },
    {
      "cell_type": "code",
      "metadata": {
        "id": "sjmq9zqaZ30V"
      },
      "source": [
        "x_train,x_test,y_train,y_test=train_test_split(x,y,test_size=0.2,stratify=y,random_state=2)\n",
        "#stratify=y(reason is to have no. of legit,fraud data equal in both test and training data)"
      ],
      "execution_count": 31,
      "outputs": []
    },
    {
      "cell_type": "code",
      "metadata": {
        "colab": {
          "base_uri": "https://localhost:8080/"
        },
        "id": "Fk0q155Ab8yI",
        "outputId": "05f22ee8-facc-4f6b-9747-1cdfd5b9a47c"
      },
      "source": [
        "print(x.shape,x_train.shape,x_test.shape)\n",
        "print(y.shape,y_train.shape,y_test.shape)"
      ],
      "execution_count": 32,
      "outputs": [
        {
          "output_type": "stream",
          "name": "stdout",
          "text": [
            "(984, 30) (787, 30) (197, 30)\n",
            "(984,) (787,) (197,)\n"
          ]
        }
      ]
    },
    {
      "cell_type": "markdown",
      "metadata": {
        "id": "g_QbMhDzck8Q"
      },
      "source": [
        "Model Training\n",
        "(Logistic Regression)"
      ]
    },
    {
      "cell_type": "code",
      "metadata": {
        "colab": {
          "base_uri": "https://localhost:8080/"
        },
        "id": "P3OUkcDOckgC",
        "outputId": "77975402-d27b-45b9-9eda-1e9f206e7ef1"
      },
      "source": [
        "model=LogisticRegression()\n",
        "model.fit(x_train,y_train)"
      ],
      "execution_count": 33,
      "outputs": [
        {
          "output_type": "execute_result",
          "data": {
            "text/plain": [
              "LogisticRegression(C=1.0, class_weight=None, dual=False, fit_intercept=True,\n",
              "                   intercept_scaling=1, l1_ratio=None, max_iter=100,\n",
              "                   multi_class='auto', n_jobs=None, penalty='l2',\n",
              "                   random_state=None, solver='lbfgs', tol=0.0001, verbose=0,\n",
              "                   warm_start=False)"
            ]
          },
          "metadata": {},
          "execution_count": 33
        }
      ]
    },
    {
      "cell_type": "markdown",
      "metadata": {
        "id": "9JrIXZMfdTzR"
      },
      "source": [
        "Model Evaluation"
      ]
    },
    {
      "cell_type": "code",
      "metadata": {
        "id": "8tmzVcaydTBA",
        "colab": {
          "base_uri": "https://localhost:8080/"
        },
        "outputId": "980d066e-427c-4217-ba7d-dd37dc810ec5"
      },
      "source": [
        "#accuracy on training data\n",
        "x_train_pred=model.predict(x_train)\n",
        "training_data_accuracy=accuracy_score(x_train_pred,y_train)\n",
        "print(\"training accuracy=\",training_data_accuracy)\n",
        "#accuracy on testing data\n",
        "x_test_pred=model.predict(x_test)\n",
        "test_data_accuracy=accuracy_score(x_test_pred,y_test)\n",
        "print(\"testing accuracy=\",test_data_accuracy)\n",
        "\n"
      ],
      "execution_count": 34,
      "outputs": [
        {
          "output_type": "stream",
          "name": "stdout",
          "text": [
            "training accuracy= 0.9466327827191868\n",
            "testing accuracy= 0.9289340101522843\n"
          ]
        }
      ]
    }
  ]
}